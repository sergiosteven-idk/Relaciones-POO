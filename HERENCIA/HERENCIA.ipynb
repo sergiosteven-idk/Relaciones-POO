{
 "cells": [
  {
   "cell_type": "markdown",
   "id": "0d468dcc",
   "metadata": {},
   "source": [
    "Definición:\n",
    "Relación donde una clase (subclase) hereda atributos y métodos de otra (superclase). Ejemplo: Auto hereda de Vehículo"
   ]
  },
  {
   "cell_type": "code",
   "execution_count": null,
   "id": "8ae8b5fe",
   "metadata": {},
   "outputs": [],
   "source": [
    "class Vehiculo:\n",
    "    def mover(self):\n",
    "        print(\"El vehículo se mueve\")\n",
    "\n",
    "class Auto(Vehiculo):\n",
    "    def encenderMotor(self):\n",
    "        print(\"Motor encendido\")\n",
    "\n",
    "mi_auto = Auto()\n",
    "mi_auto.mover()"
   ]
  }
 ],
 "metadata": {
  "language_info": {
   "name": "python"
  }
 },
 "nbformat": 4,
 "nbformat_minor": 5
}
