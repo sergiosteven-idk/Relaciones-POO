{
 "cells": [
  {
   "cell_type": "markdown",
   "id": "96b2127b",
   "metadata": {},
   "source": [
    "Definición\n",
    "Una superclase es la clase padre que define atributos y métodos comunes para sus subclases. Las subclases heredan estas características y pueden extenderlas o modificarlas.\n",
    "\n",
    "Relación con Herencia: La superclase es la base de la jerarquía.\n",
    "\n",
    "Ejemplo clave: Vehículo es superclase de Auto, Bicicleta, etc."
   ]
  },
  {
   "cell_type": "code",
   "execution_count": null,
   "id": "c9127d8b",
   "metadata": {},
   "outputs": [],
   "source": [
    "class Vehiculo:  # Superclase\n",
    "    def __init__(self, marca):\n",
    "        self.marca = marca\n",
    "    \n",
    "    def mover(self):\n",
    "        print(f\"{self.marca} se está moviendo\")\n",
    "\n",
    "class Auto(Vehiculo):\n",
    "    def encenderMotor(self):\n",
    "        print(\"Motor encendido\")\n",
    "\n",
    "class Bicicleta(Vehiculo):\n",
    "    def pedalear(self):\n",
    "        print(\"Pedaleando\")\n",
    "\n",
    "# Uso\n",
    "mi_auto = Auto(\"Toyota\")\n",
    "mi_auto.mover()  # Heredado de Vehiculo (superclase)\n",
    "mi_bici = Bicicleta(\"Trek\")\n",
    "mi_bici.mover()  # También heredado"
   ]
  }
 ],
 "metadata": {
  "language_info": {
   "name": "python"
  }
 },
 "nbformat": 4,
 "nbformat_minor": 5
}
