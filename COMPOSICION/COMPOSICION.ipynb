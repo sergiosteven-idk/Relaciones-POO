{
 "cells": [
  {
   "cell_type": "markdown",
   "id": "b51a0c45",
   "metadata": {},
   "source": [
    "Definición\n",
    "Relación \"todo-parte\" donde la parte no puede existir sin el todo (ej: Habitación no existe sin Casa"
   ]
  },
  {
   "cell_type": "code",
   "execution_count": null,
   "id": "2073d2b7",
   "metadata": {},
   "outputs": [],
   "source": [
    "class Habitacion:\n",
    "    def __init__(self, numero):\n",
    "        self.numero = numero\n",
    "\n",
    "class Casa:\n",
    "    def __init__(self):\n",
    "        self.habitaciones = [Habitacion(1)]  # La habitación nace con la Casa\n",
    "    \n",
    "casa = Casa()  # Si se destruye la Casa, las Habitaciones también"
   ]
  }
 ],
 "metadata": {
  "language_info": {
   "name": "python"
  }
 },
 "nbformat": 4,
 "nbformat_minor": 5
}
