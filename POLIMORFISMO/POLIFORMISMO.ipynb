{
 "cells": [
  {
   "cell_type": "markdown",
   "id": "6646e712",
   "metadata": {},
   "source": [
    "Definición\n",
    "Capacidad de que un mismo método tenga comportamientos distintos en clases diferentes."
   ]
  },
  {
   "cell_type": "code",
   "execution_count": null,
   "id": "043c49dc",
   "metadata": {},
   "outputs": [],
   "source": [
    "class Animal:\n",
    "    def sonido(self):\n",
    "        pass\n",
    "\n",
    "class Perro(Animal):\n",
    "    def sonido(self):  # Polimorfismo: override\n",
    "        print(\"Guau!\")\n",
    "\n",
    "class Gato(Animal):\n",
    "    def sonido(self):  # Polimorfismo: override\n",
    "        print(\"Miau!\")\n",
    "\n",
    "for animal in [Perro(), Gato()]:\n",
    "    animal.sonido()  # Mismo método, distinto resultado"
   ]
  }
 ],
 "metadata": {
  "language_info": {
   "name": "python"
  }
 },
 "nbformat": 4,
 "nbformat_minor": 5
}
