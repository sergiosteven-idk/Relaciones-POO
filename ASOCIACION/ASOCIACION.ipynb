{
 "cells": [
  {
   "cell_type": "markdown",
   "id": "6e164453",
   "metadata": {},
   "source": [
    "Definición\n",
    "Relación entre objetos independientes que interactúan. No hay dependencia vital (ej: un Profesor enseña a un Estudiante)."
   ]
  },
  {
   "cell_type": "code",
   "execution_count": null,
   "id": "6de669ee",
   "metadata": {},
   "outputs": [],
   "source": [
    "class Profesor:\n",
    "    def enseñar(self, estudiante):\n",
    "        print(f\"Enseñando a {estudiante.nombre}\")\n",
    "\n",
    "class Estudiante:\n",
    "    def __init__(self, nombre):\n",
    "        self.nombre = nombre\n",
    "\n",
    "prof = Profesor()\n",
    "alumno = Estudiante(\"Juan\")\n",
    "prof.enseñar(alumno)  # Asociación: Profesor usa Estudiante"
   ]
  }
 ],
 "metadata": {
  "language_info": {
   "name": "python"
  }
 },
 "nbformat": 4,
 "nbformat_minor": 5
}
