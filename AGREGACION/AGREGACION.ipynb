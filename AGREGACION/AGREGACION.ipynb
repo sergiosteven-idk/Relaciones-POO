{
 "cells": [
  {
   "cell_type": "markdown",
   "id": "19b85f94",
   "metadata": {},
   "source": [
    "Definición\n",
    "Relación \"todo-parte\" donde la parte puede existir independientemente (ej: Libro puede existir sin Biblioteca)."
   ]
  },
  {
   "cell_type": "code",
   "execution_count": null,
   "id": "cf2f0c20",
   "metadata": {},
   "outputs": [],
   "source": [
    "class Libro:\n",
    "    def __init__(self, titulo):\n",
    "        self.titulo = titulo\n",
    "\n",
    "class Biblioteca:\n",
    "    def __init__(self):\n",
    "        self.libros = []\n",
    "    \n",
    "    def agregar_libro(self, libro):\n",
    "        self.libros.append(libro)\n",
    "\n",
    "libro1 = Libro(\"Cien años de seriedad\")\n",
    "bib = Biblioteca()\n",
    "bib.agregar_libro(libro1)  # Agregación: Libro existe sin Biblioteca"
   ]
  }
 ],
 "metadata": {
  "language_info": {
   "name": "python"
  }
 },
 "nbformat": 4,
 "nbformat_minor": 5
}
